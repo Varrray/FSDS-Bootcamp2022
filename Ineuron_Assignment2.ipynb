{
  "nbformat": 4,
  "nbformat_minor": 0,
  "metadata": {
    "colab": {
      "provenance": []
    },
    "kernelspec": {
      "name": "python3",
      "display_name": "Python 3"
    },
    "language_info": {
      "name": "python"
    }
  },
  "cells": [
    {
      "cell_type": "markdown",
      "source": [
        "**Assignment 02 Solutions**\n",
        "\n",
        "\n",
        "Q1. What is the relationship between classes and modules?\n",
        "\n",
        "Ans: A Python class is like an outline/blueprint/mold for creating a new object. An object is anything that we wish to manipulate or change while working through the code. Every time a class object is instantiated, which is when we declare a variable, a new object is initiated from scratch.\n",
        "\n",
        "Whereas in Python, Modules are simply files with the . py extension containing Python code that can be imported inside another Python Program. In simple terms, we can consider a module to be the same as a code library or a file that contains a set of functions/Classes that we want to include in your application.\n",
        "\n",
        "Q2. How do you make instances and classes?\n",
        "\n",
        "Ans: For creating a class instance. we call a class by its name and pass the arguments which its __init__ method accepts.\n",
        "\n",
        "Example: gaurav = employee('Male',20000), Here gaurav is an instance of class employee with attriubutes 'Male' and 20000.\n",
        "\n",
        "Whereas for creating a class, we use the Class keyword. Class keyword is followed by classname and semicolon.\n",
        "\n",
        "Example: Here Employee is a class created with class keyword with arguments gender and salary.\n",
        "\n",
        "class Employee: def __init__(self, gender,salary): self.gender = gender self.salary = salary\n",
        "\n",
        "Q3. Where and how should be class attributes created?\n",
        "\n",
        "Ans: Class attributes or Class level Attributes belong to the class itself. these attributes will be shared by all the instances of the class. Hence these attributes are usually created/defined in the top of class definiation outside all methods.\n",
        "\n",
        "Example: In the below code we are defining a class attribute called no_of_wheels which will be shared by all the instances of the class Car\n",
        "\n",
        "class Car: no_of_wheels = 4; # this is a class attribute def __init__(self,color,price,engine): self.color = color # All this are instance attributes self.price = price self.engine = engine\n",
        "\n",
        "Q4. Where and how are instance attributes created?\n",
        "\n",
        "Ans: Instances attributes are passed to the class when an object of the class is created. Unlike class attributes, instance attributes are not shared by all objects of the classs. Instead each object maintains its own copy of instance attributes at object level whereas incase of class attributes, all instances of class refer to a single copy. Usually instance attributes are defined within the __init__ method of class.\n",
        "\n",
        "Example: In the below sample code we are creating a class Car with instance varaibles color, price, engine, which will be provided when an instance of class Car is created.\n",
        "\n",
        "class Car: def __init__(self,color,price,engine): self.color = color # All this are instance attributes self.price = price self.engine = engine\n",
        "\n",
        "nexon_ev = Car('Indigo Blue', 1400000, 'electric')\n",
        "safari = Car('Pearl White',2100000, 'petrol')\n",
        "\n",
        "nexon_ev, safari are both the instances of class Car with different instance variables.\n",
        "\n",
        "Q5. What does the term \"self\" in a Python class mean?\n",
        "\n",
        "Ans: self represents the instance of the class (it represents the object itself). By using the “self” keyword we can access the attributes and methods of the class with in the class in python. It binds the attributes with the given arguments."
      ],
      "metadata": {
        "id": "f8HOS1R9EWJS"
      }
    },
    {
      "cell_type": "code",
      "source": [
        "class Car:\n",
        "    def __init__(self,color,price,engine):\n",
        "        self.color = color # All this are instance attributes\n",
        "        self.price = price\n",
        "        self.engine = engine\n",
        "\n",
        "nexon_ev = Car('TATA Nexon', 1500000, 'electric')\n",
        "safari = Car('Mahindra THAR',1500000, 'petrol')\n",
        "\n",
        "print(nexon_ev.__dict__)\n",
        "print(safari.__dict__)\n"
      ],
      "metadata": {
        "colab": {
          "base_uri": "https://localhost:8080/"
        },
        "id": "38zFe3GpHZdS",
        "outputId": "ab8b03f1-d039-4e65-d382-c4e4992f8a97"
      },
      "execution_count": 2,
      "outputs": [
        {
          "output_type": "stream",
          "name": "stdout",
          "text": [
            "{'color': 'TATA Nexon', 'price': 1500000, 'engine': 'electric'}\n",
            "{'color': 'Mahindra THAR', 'price': 1500000, 'engine': 'petrol'}\n"
          ]
        }
      ]
    },
    {
      "cell_type": "markdown",
      "source": [
        "Q6. How does a Python class handle operator overloading?\n",
        "\n",
        "Ans: Python Classes handle operator overloading by using special methods called Magic methods. These special methods usually begin and end with __ (double underscore)\n",
        "Example: Magic methods for basic arithmetic operators are:\n",
        "\n",
        "+ -> __add__()\n",
        "- -> __sub__()\n",
        "* -> __mul__()\n",
        "/ -> __div__()"
      ],
      "metadata": {
        "id": "1p-dg6xBH1St"
      }
    },
    {
      "cell_type": "code",
      "source": [
        "class Book:\n",
        "    def __init__(self,pages):\n",
        "        self.pages = pages\n",
        "    def __add__(self,other):\n",
        "        return self.pages + other.pages\n",
        "b1 = Book(500)\n",
        "b2 = Book(700)\n",
        "print(f'The total number of pages in 2 books is {b1+b2}')"
      ],
      "metadata": {
        "colab": {
          "base_uri": "https://localhost:8080/"
        },
        "id": "ipCw1CXuHytL",
        "outputId": "e189d802-25ec-42e6-a300-9271dcecaf33"
      },
      "execution_count": 3,
      "outputs": [
        {
          "output_type": "stream",
          "name": "stdout",
          "text": [
            "The total number of pages in 2 books is 1200\n"
          ]
        }
      ]
    },
    {
      "cell_type": "markdown",
      "source": [
        "Q7. When do you consider allowing operator overloading of your classes?\n",
        "\n",
        "Ans: We consider allowing operator overloading when we want to have different meaning for the same operator. For example operator + is used to add two integers as well as join two strings and merge two lists. It is achievable because ‘+’ operator is overloaded by int class and str class."
      ],
      "metadata": {
        "id": "lTuBrUIZID7l"
      }
    },
    {
      "cell_type": "code",
      "source": [
        " #Python program to show use of\n",
        "# + operator for different purposes.\n",
        " \n",
        "print(1 + 2)\n",
        " \n",
        "# concatenate two strings\n",
        "print(\"Varun\"+\"Chittmella\")\n",
        " \n",
        "# Product two numbers\n",
        "print(3 * 4)\n",
        " \n",
        "# Repeat the String\n",
        "print(\"Sudhanshu\"*4)"
      ],
      "metadata": {
        "colab": {
          "base_uri": "https://localhost:8080/"
        },
        "id": "QocyS7OLIII5",
        "outputId": "ae229b34-5b3f-48f3-c001-8c820cd194bb"
      },
      "execution_count": 4,
      "outputs": [
        {
          "output_type": "stream",
          "name": "stdout",
          "text": [
            "3\n",
            "VarunChittmella\n",
            "12\n",
            "SudhanshuSudhanshuSudhanshuSudhanshu\n"
          ]
        }
      ]
    },
    {
      "cell_type": "markdown",
      "source": [
        "Q8. What is the most popular form of operator overloading?\n",
        "\n",
        "Ans: The most popular form of operator overloading in python is by special methods called Magic methods. It usually begins and ends with double underscore __<method name>__."
      ],
      "metadata": {
        "id": "f_pgJmStISyS"
      }
    },
    {
      "cell_type": "code",
      "source": [
        "class A:\n",
        "    def __init__(self,a):\n",
        "        self.a = a\n",
        "    def __add__(self,o):\n",
        "        return self.a+o.a\n",
        "obj1 = A(1)\n",
        "obj2 = A(2)\n",
        "obj3 = A('Varun')\n",
        "obj4 = A(' Chittmella')\n",
        "print(f'Sum -> {obj1+obj2}')\n",
        "print(f'String Concatenation -> {obj3+obj4}')"
      ],
      "metadata": {
        "colab": {
          "base_uri": "https://localhost:8080/"
        },
        "id": "auUIn7TKIUPq",
        "outputId": "5d5a5ec8-3f98-4f99-f3bc-8c0fef491d33"
      },
      "execution_count": 5,
      "outputs": [
        {
          "output_type": "stream",
          "name": "stdout",
          "text": [
            "Sum -> 3\n",
            "String Concatenation -> Varun Chittmella\n"
          ]
        }
      ]
    },
    {
      "cell_type": "markdown",
      "source": [
        "Q9. What are the two most important concepts to grasp in order to comprehend Python OOP code?\n",
        "\n",
        "Ans: Classes and objects are the two most important concepts to grasp in order to comprehend python OOP code as more formally objects are entities that represent instances of general abstract concept called class.\n",
        "\n",
        "Along with classes and objects the important concepts to grasp are:\n",
        "\n",
        "Inheritence\n",
        "Abstraction\n",
        "Polymorphism\n",
        "Encapsulation"
      ],
      "metadata": {
        "id": "MzQbPg1aFQhC"
      }
    }
  ]
}