{
  "nbformat": 4,
  "nbformat_minor": 0,
  "metadata": {
    "colab": {
      "provenance": []
    },
    "kernelspec": {
      "name": "python3",
      "display_name": "Python 3"
    },
    "language_info": {
      "name": "python"
    }
  },
  "cells": [
    {
      "cell_type": "markdown",
      "source": [
        "**Assignment 01 Solutions**\n",
        "\n",
        "Q1. What is the purpose of Python's OOP?\n",
        "Ans: Object-oriented programming is a programming paradigm that provides a means of structuring programs so that properties and behaviors are bundled into individual objects\n",
        "\n",
        "In Python, object-oriented Programming (OOPs) uses objects and classes in programming.\n",
        "It aims to implement real-world entities like inheritance, polymorphisms, encapsulation, etc. in the programming.\n",
        "The main concept of OOPs is to bind the data and the functions that work on that together as a single unit so that no other part of the code can access this data.\n",
        "Some Advantages are mentioned below:\n",
        "\n",
        "It helps to divide our over all program into different small segments and thus making problem solving easy through the use of objects\n",
        "Helps in easy maintenance and modification of existing program\n",
        "Multiple instances of an object can be made and explored.\n",
        "\n",
        "\n",
        "Q2. Where does an inheritance search look for an attribute?\n",
        "Ans: Python searches for an attribute in an upward tree of attributes. Tt first searches for the attribute in its instance and then looks in the class it is generated from, to all super classes listed in its class header\n",
        "\n",
        "Q3. How do you distinguish between a class object and an instance object?\n",
        "Ans: The differences between a class object and an instance object are:\n",
        "\n",
        "Class is a template for creating objects whereas object is an instance of class\n",
        "Seperate memory is allocated for each object whenever an object is created. but for a class this doesnot happens.\n",
        "A Class is created once. Many objects are created using a class.\n",
        "As Classes have no allocated memory. they can't be manipulated. but objects can be manipulated.\n",
        "\n",
        "Q4. What makes the first argument in a class’s method function special?\n",
        "Ans: Python Classes usually have three types of methods which are:\n",
        "\n",
        "Instance Methods (object level methods)\n",
        "Class Methods (class level methods)\n",
        "Static Methods (general utility methods)\n",
        "self is the first argument for instance methods. which refers to the object itself\n",
        "cls is the first argument for class methods which refers to the class itself\n",
        "\n",
        "\n",
        "Q5. What is the purpose of the init method?\n",
        "Ans: __init__ is a reseved method in python classes. It serves the role of a constructor in object oriented terminology. This method is called when an object is created from a class and it allows the class to initialize the attributes of the class\n",
        "\n",
        "Q6. What is the process for creating a class instance?\n",
        "Ans: To create a class instance, we need to call the class by its name and pass the arguments to the class, which its init method accepts.\n",
        "\n",
        "Example: my_name = my_class(\"Varun\",\"chittmella\") Here my_name is an instance of class my_class with attributes \"Varun\" and \"Chittmella\".\n",
        "\n",
        "\n",
        "Q7. What is the process for creating a class?\n",
        "Ans: class keyword is used to created a class in python. The syntax to create a class in python is class <classname>:\n",
        "\n",
        "Example: class Shape: ➞ this creates a class called Shape\n",
        "\n",
        "\n",
        "Q8. How would you define the superclasses of a class?\n",
        "Ans Superclass/Parent class is given as a arugment to the child class\n",
        "\n",
        "Example: class Employee(Person): Here child class Employee inherits attributes and methods/functions from Superclass/Parent Person"
      ],
      "metadata": {
        "id": "f8HOS1R9EWJS"
      }
    },
    {
      "cell_type": "markdown",
      "source": [],
      "metadata": {
        "id": "MzQbPg1aFQhC"
      }
    }
  ]
}